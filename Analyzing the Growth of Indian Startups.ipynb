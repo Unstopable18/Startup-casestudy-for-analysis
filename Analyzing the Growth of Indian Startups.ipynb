{
 "cells": [
  {
   "cell_type": "markdown",
   "metadata": {},
   "source": [
    "### Lets Understand some of the most Interesting Patterns of Funding and Startups.\n",
    "\n",
    "* **How Does the Funding Ecosystem changes with respect to Time?**\n",
    "* **What is the General Amount that Startups get in India?**\n",
    "* **Which Kind of Industries are more preferred for Startups?**\n",
    "* **Does Location also play a role, In determining the Growth of a Startup?**\n",
    "* **Who plays the main role in Indian Startups Ecosystem?**\n",
    "* **What are the different Types of Funding for Startups?**"
   ]
  },
  {
   "cell_type": "markdown",
   "metadata": {},
   "source": [
    "# Lets Install the Libraries"
   ]
  },
  {
   "cell_type": "code",
   "execution_count": 98,
   "metadata": {},
   "outputs": [],
   "source": [
    "# install these libraries given below to run the program successfully, \n",
    "# if already installed ignore.\n",
    "#pip install numpy\n",
    "#pip install pandas\n",
    "#pip seaborn\n",
    "#pip matplotlib"
   ]
  },
  {
   "cell_type": "code",
   "execution_count": 99,
   "metadata": {},
   "outputs": [],
   "source": [
    "# for mathematical operations\n",
    "import numpy as np \n",
    "\n",
    "# for dataframe operations\n",
    "import pandas as pd \n",
    "\n",
    "# for data visualizations\n",
    "import matplotlib.pyplot as plt\n",
    "import seaborn as sns\n",
    "\n",
    "# lets select  a background style\n",
    "plt.style.use('fivethirtyeight')\n",
    "plt.rcParams['figure.figsize'] = (16, 7)\n",
    "\n",
    "# for interactivity\n",
    "import ipywidgets as widgets\n",
    "from ipywidgets import interact\n",
    "from ipywidgets import interact_manual"
   ]
  },
  {
   "cell_type": "markdown",
   "metadata": {},
   "source": [
    "## Reading the data"
   ]
  },
  {
   "cell_type": "code",
   "execution_count": 100,
   "metadata": {},
   "outputs": [
    {
     "data": {
      "text/html": [
       "<div>\n",
       "<style scoped>\n",
       "    .dataframe tbody tr th:only-of-type {\n",
       "        vertical-align: middle;\n",
       "    }\n",
       "\n",
       "    .dataframe tbody tr th {\n",
       "        vertical-align: top;\n",
       "    }\n",
       "\n",
       "    .dataframe thead th {\n",
       "        text-align: right;\n",
       "    }\n",
       "</style>\n",
       "<table border=\"1\" class=\"dataframe\">\n",
       "  <thead>\n",
       "    <tr style=\"text-align: right;\">\n",
       "      <th></th>\n",
       "      <th>SNo</th>\n",
       "      <th>Date</th>\n",
       "      <th>StartupName</th>\n",
       "      <th>IndustryVertical</th>\n",
       "      <th>SubVertical</th>\n",
       "      <th>City</th>\n",
       "      <th>InvestorsName</th>\n",
       "      <th>InvestmentType</th>\n",
       "      <th>AmountInUSD</th>\n",
       "      <th>Remarks</th>\n",
       "    </tr>\n",
       "  </thead>\n",
       "  <tbody>\n",
       "    <tr>\n",
       "      <th>0</th>\n",
       "      <td>1</td>\n",
       "      <td>09/01/2020</td>\n",
       "      <td>BYJU’S</td>\n",
       "      <td>E-Tech</td>\n",
       "      <td>E-learning</td>\n",
       "      <td>Bengaluru</td>\n",
       "      <td>Tiger Global Management</td>\n",
       "      <td>Private Equity Round</td>\n",
       "      <td>20,00,00,000</td>\n",
       "      <td>NaN</td>\n",
       "    </tr>\n",
       "    <tr>\n",
       "      <th>1</th>\n",
       "      <td>2</td>\n",
       "      <td>13/01/2020</td>\n",
       "      <td>Shuttl</td>\n",
       "      <td>Transportation</td>\n",
       "      <td>App based shuttle service</td>\n",
       "      <td>Gurgaon</td>\n",
       "      <td>Susquehanna Growth Equity</td>\n",
       "      <td>Series C</td>\n",
       "      <td>80,48,394</td>\n",
       "      <td>NaN</td>\n",
       "    </tr>\n",
       "    <tr>\n",
       "      <th>2</th>\n",
       "      <td>3</td>\n",
       "      <td>09/01/2020</td>\n",
       "      <td>Mamaearth</td>\n",
       "      <td>E-commerce</td>\n",
       "      <td>Retailer of baby and toddler products</td>\n",
       "      <td>Bengaluru</td>\n",
       "      <td>Sequoia Capital India</td>\n",
       "      <td>Series B</td>\n",
       "      <td>1,83,58,860</td>\n",
       "      <td>NaN</td>\n",
       "    </tr>\n",
       "    <tr>\n",
       "      <th>3</th>\n",
       "      <td>4</td>\n",
       "      <td>02/01/2020</td>\n",
       "      <td>https://www.wealthbucket.in/</td>\n",
       "      <td>FinTech</td>\n",
       "      <td>Online Investment</td>\n",
       "      <td>New Delhi</td>\n",
       "      <td>Vinod Khatumal</td>\n",
       "      <td>Pre-series A</td>\n",
       "      <td>30,00,000</td>\n",
       "      <td>NaN</td>\n",
       "    </tr>\n",
       "    <tr>\n",
       "      <th>4</th>\n",
       "      <td>5</td>\n",
       "      <td>02/01/2020</td>\n",
       "      <td>Fashor</td>\n",
       "      <td>Fashion and Apparel</td>\n",
       "      <td>Embroiled Clothes For Women</td>\n",
       "      <td>Mumbai</td>\n",
       "      <td>Sprout Venture Partners</td>\n",
       "      <td>Seed Round</td>\n",
       "      <td>18,00,000</td>\n",
       "      <td>NaN</td>\n",
       "    </tr>\n",
       "  </tbody>\n",
       "</table>\n",
       "</div>"
      ],
      "text/plain": [
       "   SNo        Date                   StartupName     IndustryVertical  \\\n",
       "0    1  09/01/2020                        BYJU’S               E-Tech   \n",
       "1    2  13/01/2020                        Shuttl       Transportation   \n",
       "2    3  09/01/2020                     Mamaearth           E-commerce   \n",
       "3    4  02/01/2020  https://www.wealthbucket.in/              FinTech   \n",
       "4    5  02/01/2020                        Fashor  Fashion and Apparel   \n",
       "\n",
       "                             SubVertical       City  \\\n",
       "0                             E-learning  Bengaluru   \n",
       "1              App based shuttle service    Gurgaon   \n",
       "2  Retailer of baby and toddler products  Bengaluru   \n",
       "3                      Online Investment  New Delhi   \n",
       "4            Embroiled Clothes For Women     Mumbai   \n",
       "\n",
       "               InvestorsName        InvestmentType   AmountInUSD Remarks  \n",
       "0    Tiger Global Management  Private Equity Round  20,00,00,000     NaN  \n",
       "1  Susquehanna Growth Equity              Series C     80,48,394     NaN  \n",
       "2      Sequoia Capital India              Series B   1,83,58,860     NaN  \n",
       "3             Vinod Khatumal          Pre-series A     30,00,000     NaN  \n",
       "4    Sprout Venture Partners            Seed Round     18,00,000     NaN  "
      ]
     },
     "execution_count": 100,
     "metadata": {},
     "output_type": "execute_result"
    }
   ],
   "source": [
    "# lets import the data\n",
    "data = pd.read_csv(\"startup_funding.csv\")\n",
    "\n",
    "# changing the names of the columns inside the data\n",
    "data.columns = [\"SNo\", \"Date\", \"StartupName\", \"IndustryVertical\", \"SubVertical\",\n",
    "                        \"City\", \"InvestorsName\", \"InvestmentType\", \"AmountInUSD\", \"Remarks\"]\n",
    "    \n",
    "# lets check the head of the data\n",
    "data.head()"
   ]
  },
  {
   "cell_type": "code",
   "execution_count": 101,
   "metadata": {},
   "outputs": [
    {
     "data": {
      "text/plain": [
       "Index(['SNo', 'Date', 'StartupName', 'IndustryVertical', 'SubVertical', 'City',\n",
       "       'InvestorsName', 'InvestmentType', 'AmountInUSD', 'Remarks'],\n",
       "      dtype='object')"
      ]
     },
     "execution_count": 101,
     "metadata": {},
     "output_type": "execute_result"
    }
   ],
   "source": [
    "# lets check the column names of the data\n",
    "data.columns"
   ]
  },
  {
   "cell_type": "code",
   "execution_count": 102,
   "metadata": {},
   "outputs": [
    {
     "name": "stdout",
     "output_type": "stream",
     "text": [
      "Size of data (3044, 10)\n"
     ]
    }
   ],
   "source": [
    "# lets check the shape of the data\n",
    "print(\"Size of data\", data.shape)"
   ]
  },
  {
   "cell_type": "markdown",
   "metadata": {},
   "source": [
    "## Data Cleaning"
   ]
  },
  {
   "cell_type": "code",
   "execution_count": 103,
   "metadata": {},
   "outputs": [
    {
     "data": {
      "text/html": [
       "<div>\n",
       "<style scoped>\n",
       "    .dataframe tbody tr th:only-of-type {\n",
       "        vertical-align: middle;\n",
       "    }\n",
       "\n",
       "    .dataframe tbody tr th {\n",
       "        vertical-align: top;\n",
       "    }\n",
       "\n",
       "    .dataframe thead th {\n",
       "        text-align: right;\n",
       "    }\n",
       "</style>\n",
       "<table border=\"1\" class=\"dataframe\">\n",
       "  <thead>\n",
       "    <tr style=\"text-align: right;\">\n",
       "      <th></th>\n",
       "      <th>Total_before</th>\n",
       "      <th>Total_after</th>\n",
       "      <th>Percent_before %</th>\n",
       "      <th>Percent_after %</th>\n",
       "    </tr>\n",
       "  </thead>\n",
       "  <tbody>\n",
       "    <tr>\n",
       "      <th>Remarks</th>\n",
       "      <td>2625</td>\n",
       "      <td>0</td>\n",
       "      <td>86.235217</td>\n",
       "      <td>0.0</td>\n",
       "    </tr>\n",
       "    <tr>\n",
       "      <th>AmountInUSD</th>\n",
       "      <td>960</td>\n",
       "      <td>0</td>\n",
       "      <td>31.537451</td>\n",
       "      <td>0.0</td>\n",
       "    </tr>\n",
       "    <tr>\n",
       "      <th>SubVertical</th>\n",
       "      <td>936</td>\n",
       "      <td>0</td>\n",
       "      <td>30.749014</td>\n",
       "      <td>0.0</td>\n",
       "    </tr>\n",
       "    <tr>\n",
       "      <th>City</th>\n",
       "      <td>180</td>\n",
       "      <td>0</td>\n",
       "      <td>5.913272</td>\n",
       "      <td>0.0</td>\n",
       "    </tr>\n",
       "    <tr>\n",
       "      <th>IndustryVertical</th>\n",
       "      <td>171</td>\n",
       "      <td>0</td>\n",
       "      <td>5.617608</td>\n",
       "      <td>0.0</td>\n",
       "    </tr>\n",
       "    <tr>\n",
       "      <th>InvestorsName</th>\n",
       "      <td>24</td>\n",
       "      <td>0</td>\n",
       "      <td>0.788436</td>\n",
       "      <td>0.0</td>\n",
       "    </tr>\n",
       "    <tr>\n",
       "      <th>InvestmentType</th>\n",
       "      <td>4</td>\n",
       "      <td>0</td>\n",
       "      <td>0.131406</td>\n",
       "      <td>0.0</td>\n",
       "    </tr>\n",
       "    <tr>\n",
       "      <th>SNo</th>\n",
       "      <td>0</td>\n",
       "      <td>0</td>\n",
       "      <td>0.000000</td>\n",
       "      <td>0.0</td>\n",
       "    </tr>\n",
       "    <tr>\n",
       "      <th>Date</th>\n",
       "      <td>0</td>\n",
       "      <td>0</td>\n",
       "      <td>0.000000</td>\n",
       "      <td>0.0</td>\n",
       "    </tr>\n",
       "    <tr>\n",
       "      <th>StartupName</th>\n",
       "      <td>0</td>\n",
       "      <td>0</td>\n",
       "      <td>0.000000</td>\n",
       "      <td>0.0</td>\n",
       "    </tr>\n",
       "  </tbody>\n",
       "</table>\n",
       "</div>"
      ],
      "text/plain": [
       "                  Total_before  Total_after  Percent_before %  Percent_after %\n",
       "Remarks                   2625            0         86.235217              0.0\n",
       "AmountInUSD                960            0         31.537451              0.0\n",
       "SubVertical                936            0         30.749014              0.0\n",
       "City                       180            0          5.913272              0.0\n",
       "IndustryVertical           171            0          5.617608              0.0\n",
       "InvestorsName               24            0          0.788436              0.0\n",
       "InvestmentType               4            0          0.131406              0.0\n",
       "SNo                          0            0          0.000000              0.0\n",
       "Date                         0            0          0.000000              0.0\n",
       "StartupName                  0            0          0.000000              0.0"
      ]
     },
     "execution_count": 103,
     "metadata": {},
     "output_type": "execute_result"
    }
   ],
   "source": [
    "# Find missing data before cleanning\n",
    "\n",
    "# lets import warnings module\n",
    "import warnings\n",
    "warnings.filterwarnings('ignore')\n",
    "\n",
    "# lets calculate the total missing values in the data\n",
    "total_before = data.isnull().sum().sort_values(ascending = False)\n",
    "\n",
    "# lets calculate the percentage of missing values in the data\n",
    "percent_before = ((data.isnull().sum()/data.isnull().count())*100).sort_values(ascending = False)\n",
    "\n",
    "# lets clean the strings\n",
    "#xc2 and xa0 is NO-BREAK SPACE in UTF-8\n",
    "def clean_string(x):\n",
    "    return str(x).replace(\"\\\\xc2\\\\xa0\",\"\").replace(\"\\\\\\\\xc2\\\\\\\\xa0\", \"\")\n",
    "\n",
    "# lets apply the function to clean the data\n",
    "for col in [\"StartupName\", \"IndustryVertical\", \"SubVertical\", \"City\", \n",
    "            \"InvestorsName\", \"InvestmentType\", \"AmountInUSD\", \"Remarks\"]:\n",
    "    data[col] = data[col].apply(lambda x: clean_string(x))\n",
    "\n",
    "# Find missing data after cleanning\n",
    "\n",
    "# lets calculate the total missing values in the data\n",
    "total_after = data.isnull().sum().sort_values(ascending = False)\n",
    "\n",
    "# lets calculate the percentage of missing values in the data\n",
    "percent_after = ((data.isnull().sum()/data.isnull().count())*100).sort_values(ascending = False)\n",
    "\n",
    "# lets store the above two values in a dataset called missing data\n",
    "missing_data = pd.concat([total_before,total_after, percent_before,percent_after], axis=1, keys=['Total_before', 'Total_after','Percent_before %', 'Percent_after %'])\n",
    "\n",
    "# lets check the head of the data\n",
    "missing_data"
   ]
  },
  {
   "cell_type": "code",
   "execution_count": 104,
   "metadata": {},
   "outputs": [
    {
     "data": {
      "text/plain": [
       "nan                                  2625\n",
       "Series A                              177\n",
       "Series B                               64\n",
       "Pre-Series A                           37\n",
       "Series C                               28\n",
       "                                     ... \n",
       "pre Series-A                            1\n",
       "QPrize Contest Winners                  1\n",
       "pre series A                            1\n",
       "pre-series A                            1\n",
       "Strategic Funding, Minority stake       1\n",
       "Name: Remarks, Length: 70, dtype: int64"
      ]
     },
     "execution_count": 104,
     "metadata": {},
     "output_type": "execute_result"
    }
   ],
   "source": [
    "# lets check the values in the Remarks column\n",
    "data['Remarks'].value_counts()"
   ]
  },
  {
   "cell_type": "code",
   "execution_count": 105,
   "metadata": {},
   "outputs": [
    {
     "data": {
      "text/plain": [
       "Index(['SNo', 'Date', 'StartupName', 'IndustryVertical', 'SubVertical', 'City',\n",
       "       'InvestorsName', 'InvestmentType', 'AmountInUSD'],\n",
       "      dtype='object')"
      ]
     },
     "execution_count": 105,
     "metadata": {},
     "output_type": "execute_result"
    }
   ],
   "source": [
    "# lets remove Remarks column, as it contains a lot of nans, and high cardinal column\n",
    "\n",
    "data = data.drop(['Remarks'], axis = 1)\n",
    "\n",
    "# lets check the column names after removing the Remarks Column, as it having \n",
    "data.columns"
   ]
  },
  {
   "cell_type": "code",
   "execution_count": 109,
   "metadata": {},
   "outputs": [
    {
     "data": {
      "image/png": "[encoded data removed]",
      "text/plain": [
       "<Figure size 1500x300 with 1 Axes>"
      ]
     },
     "metadata": {},
     "output_type": "display_data"
    }
   ],
   "source": [
    "# lets convert the amount column into numerical, so that we can analyze the values inside it\n",
    "\n",
    "# function to clean the AmounInUsd Column\n",
    "def clean_amount(x):\n",
    "    x = ''.join([c for c in str(x) if c in ['0', '1', '2', '3', '4', '5', '6', '7', '8', '9']])\n",
    "    x = str(x).replace(\",\",\"\").replace(\"+\",\"\")\n",
    "    x = str(x).lower().replace(\"undisclosed\",\"\")\n",
    "    x = str(x).lower().replace(\"n/a\",\"\")\n",
    "    if x == '':\n",
    "        x = '0'\n",
    "    return x\n",
    "\n",
    "# lets apply the function on the column\n",
    "data[\"AmountInUSD\"] = data[\"AmountInUSD\"].apply(lambda x: float(clean_amount(x)))\n",
    "\n",
    "# lets check the head of the column after cleaning it\n",
    "plt.rcParams['figure.figsize'] = (15, 3)\n",
    "data['AmountInUSD'].plot(kind = 'line', color = 'black')\n",
    "plt.title('Distribution of Amount', fontsize = 15)\n",
    "plt.show()"
   ]
  },
  {
   "cell_type": "code",
   "execution_count": 107,
   "metadata": {},
   "outputs": [],
   "source": [
    "## Cleaning the dates\n",
    "\n",
    "data['Date'][data['Date']=='12/05.2015'] = '12/05/2015'\n",
    "data['Date'][data['Date']=='13/04.2015'] = '13/04/2015'\n",
    "data['Date'][data['Date']=='15/01.2015'] = '15/01/2015'\n",
    "data['Date'][data['Date']=='22/01//2015'] = '22/01/2015'\n",
    "data['Date'][data['Date']=='05/072018'] = '05/07/2018'\n",
    "data['Date'][data['Date']=='01/07/015'] = '01/07/2015'\n",
    "data['Date'][data['Date']=='\\\\\\\\xc2\\\\\\\\xa010/7/2015'] = '10/07/2015'"
   ]
  },
  {
   "cell_type": "markdown",
   "metadata": {},
   "source": [
    "## How Does the Funding Ecosystem changes with respect to Time?"
   ]
  },
  {
   "cell_type": "code",
   "execution_count": 112,
   "metadata": {},
   "outputs": [
    {
     "name": "stdout",
     "output_type": "stream",
     "text": [
      "Number of funding per month in decreasing order(Top 10)\n",
      " 201601    104\n",
      "201602    100\n",
      "201507     98\n",
      "201606     98\n",
      "201508     98\n",
      "201510     93\n",
      "201511     92\n",
      "201512     89\n",
      "201509     88\n",
      "201608     87\n",
      "Name: yearmonth, dtype: int64\n"
     ]
    },
    {
     "data": {
      "image/png": "[encoded data removed]",
      "text/plain": [
       "<Figure size 1500x700 with 1 Axes>"
      ]
     },
     "metadata": {},
     "output_type": "display_data"
    }
   ],
   "source": [
    "# some of the date formats are written wrongly so we have to clean them thoroughly so that we can analyze these values\n",
    "\n",
    "# converting them into a Datetime object\n",
    "#10/04/2016=(2016*100)+04\n",
    "#10/04/2016=201600+04\n",
    "#10/04/2016=201604\n",
    "data[\"yearmonth\"] = (pd.to_datetime(data['Date'],format='%d/%m/%Y').dt.year*100)+(pd.to_datetime(data['Date'],format='%d/%m/%Y').dt.month)\n",
    "\n",
    "\n",
    "temp = data['yearmonth'].value_counts().sort_values(ascending = False).head(10)\n",
    "print(\"Number of funding per month in decreasing order(Top 10)\\n\",temp)\n",
    "year_month = data['yearmonth'].value_counts()\n",
    "\n",
    "# lets plot the data\n",
    "plt.rcParams['figure.figsize'] = (15, 7)\n",
    "sns.barplot(x=year_month.index, y=year_month.values, palette = 'copper')\n",
    "plt.xticks(rotation = 90)\n",
    "plt.xlabel('Year-Month of transaction', fontsize=12)\n",
    "plt.ylabel('Number of fundings made', fontsize=12)\n",
    "plt.title(\"Year-Month Distribution\", fontsize=16)\n",
    "plt.show()"
   ]
  },
  {
   "cell_type": "markdown",
   "metadata": {},
   "source": [
    "## What is the General Amount that Startups get in India?"
   ]
  },
  {
   "cell_type": "code",
   "execution_count": 115,
   "metadata": {},
   "outputs": [
    {
     "name": "stdout",
     "output_type": "stream",
     "text": [
      "Maximum funding to a Startups is :  39000000000.0\n"
     ]
    }
   ],
   "source": [
    "# lets check the Maximum funding of a startup\n",
    "print(\"Maximum funding to a Startups is : \", data[\"AmountInUSD\"].dropna().max())"
   ]
  },
  {
   "cell_type": "code",
   "execution_count": null,
   "metadata": {},
   "outputs": [],
   "source": [
    "# lets check the startups with more than 50crore+ funding\n",
    "\n",
    "@interact\n",
    "def check(column = 'AmountInUSD', x = 500000000): # 50 crore funding of startups\n",
    "    return data[data[column] > x].sort_values(by = 'AmountInUSD', ascending = False)"
   ]
  },
  {
   "cell_type": "code",
   "execution_count": null,
   "metadata": {},
   "outputs": [],
   "source": [
    "# lets check out different ventures of Paytm\n",
    "data[data.StartupName == 'Paytm']"
   ]
  },
  {
   "cell_type": "code",
   "execution_count": null,
   "metadata": {},
   "outputs": [],
   "source": [
    "# lets check out different ventures of Flipkart\n",
    "data[data.StartupName == 'Flipkart']"
   ]
  },
  {
   "cell_type": "code",
   "execution_count": null,
   "metadata": {},
   "outputs": [],
   "source": [
    "# lets check the minimum funding in a startup\n",
    "print(\"Minimum funding to a Startups is : \", data[\"AmountInUSD\"].dropna().sort_values().min())"
   ]
  },
  {
   "cell_type": "code",
   "execution_count": null,
   "metadata": {},
   "outputs": [],
   "source": [
    "# lets check the startups with least funding\n",
    "data[['AmountInUSD','StartupName']].sort_values(by = 'AmountInUSD', ascending = True).head(5)"
   ]
  },
  {
   "cell_type": "code",
   "execution_count": null,
   "metadata": {},
   "outputs": [],
   "source": [
    "data[data['AmountInUSD'] == -999.0].shape"
   ]
  },
  {
   "cell_type": "code",
   "execution_count": null,
   "metadata": {},
   "outputs": [],
   "source": [
    "# Average Funding\n",
    "print(\"On Average indian startups got funding of : \", data[\"AmountInUSD\"].dropna().sort_values().mean())"
   ]
  },
  {
   "cell_type": "code",
   "execution_count": null,
   "metadata": {},
   "outputs": [],
   "source": [
    "# lets check the no. of funding each startsup got\n",
    "\n",
    "print(\"Total startups funded : \", len(data[\"StartupName\"].unique()))\n",
    "print(data[\"StartupName\"].value_counts().head(10))\n",
    "startupname = data['StartupName'].value_counts().head(20)\n",
    "\n",
    "# lets plot the data\n",
    "plt.rcParams['figure.figsize'] = (12, 15)\n",
    "sns.barplot(y = startupname.index, x = startupname.values, alpha=0.9, palette = 'Dark2')\n",
    "plt.xticks(rotation='vertical')\n",
    "plt.xlabel('Startup Name', fontsize=12)\n",
    "plt.ylabel('Number of fundings made', fontsize=12)\n",
    "plt.title(\"Number of fundings Startups Have\", fontsize=16)\n",
    "plt.show()"
   ]
  },
  {
   "cell_type": "markdown",
   "metadata": {},
   "source": [
    "## Which Kind of Industries are more preferred for Startups?"
   ]
  },
  {
   "cell_type": "code",
   "execution_count": null,
   "metadata": {},
   "outputs": [],
   "source": [
    "# lets analyze the Industry of the Startups\n",
    "\n",
    "# data cleaning\n",
    "data['IndustryVertical'] = data['IndustryVertical'].replace('nan', 'Consumer Technology')\n",
    "\n",
    "industry = data['IndustryVertical'].value_counts().head(10)\n",
    "print(industry)\n",
    "\n",
    "# lets plot the data\n",
    "plt.rcParams['figure.figsize'] = (15, 5)\n",
    "sns.barplot(industry.index, industry.values, palette = 'autumn')\n",
    "plt.xticks(rotation='vertical')\n",
    "plt.xlabel('Industry vertical of startups', fontsize=12)\n",
    "plt.ylabel('Number of fundings made', fontsize=12)\n",
    "plt.title(\"Industry vertical of startups with number of funding\", fontsize=16)\n",
    "plt.show()"
   ]
  },
  {
   "cell_type": "code",
   "execution_count": null,
   "metadata": {},
   "outputs": [],
   "source": [
    "# lets analyze the sub vertical industries\n",
    "\n",
    "industry = data['SubVertical'].value_counts()[1:].head(20)\n",
    "print(industry)\n",
    "\n",
    "# lets plot the data\n",
    "sns.lineplot(industry.index, industry.values, palette = 'winter')\n",
    "plt.xticks(rotation='vertical')\n",
    "plt.xlabel('Subvertical of startups', fontsize=12)\n",
    "plt.ylabel('Number of fundings made', fontsize=12)\n",
    "plt.title(\"Subvertical of startups with number of funding\", fontsize=16)\n",
    "plt.show()"
   ]
  },
  {
   "cell_type": "markdown",
   "metadata": {},
   "source": [
    "## Does Location also play a role, In determining the Growth of a Startup?"
   ]
  },
  {
   "cell_type": "code",
   "execution_count": null,
   "metadata": {},
   "outputs": [],
   "source": [
    "# analyzing the effect of Cities on a Startup\n",
    "\n",
    "# lets clean the data for better analysis\n",
    "data['City'] = data['City'].replace(('Bengaluru', 'nan'),('Bangalore', 'Bangalore'))\n",
    "\n",
    "city = data['City'].value_counts().head(10)\n",
    "print(city)\n",
    "\n",
    "# lets plot the data\n",
    "sns.barplot(city.index, city.values, palette = 'Wistia')\n",
    "plt.xticks(rotation='vertical')\n",
    "plt.xlabel('city location of startups', fontsize=12)\n",
    "plt.ylabel('Number of fundings made', fontsize=12)\n",
    "plt.title(\"city location of startups with number of funding\", fontsize=16)\n",
    "plt.show()"
   ]
  },
  {
   "cell_type": "markdown",
   "metadata": {},
   "source": [
    "## Who plays the main role in Indian Startups Ecosystem?"
   ]
  },
  {
   "cell_type": "code",
   "execution_count": null,
   "metadata": {},
   "outputs": [],
   "source": [
    "from wordcloud import WordCloud\n",
    "\n",
    "names = data[\"InvestorsName\"][~pd.isnull(data[\"InvestorsName\"])]\n",
    "wordcloud = WordCloud(max_font_size=50, width=600, height=300, background_color = 'cyan').generate(' '.join(names))\n",
    "plt.figure(figsize=(15,8))\n",
    "plt.imshow(wordcloud)\n",
    "plt.title(\"Wordcloud for Investor Names\", fontsize=35)\n",
    "plt.axis(\"off\")\n",
    "plt.show()"
   ]
  },
  {
   "cell_type": "code",
   "execution_count": null,
   "metadata": {},
   "outputs": [],
   "source": [
    "# lets analyze the investors on startups\n",
    "\n",
    "# lets clean the dataset\n",
    "data['InvestorsName'][data['InvestorsName'] == 'Undisclosed investors'] = 'Undisclosed Investors'\n",
    "data['InvestorsName'][data['InvestorsName'] == 'undisclosed Investors'] = 'Undisclosed Investors'\n",
    "data['InvestorsName'][data['InvestorsName'] == 'undisclosed investors'] = 'Undisclosed Investors'\n",
    "data['InvestorsName'][data['InvestorsName'] == 'Undisclosed investor'] = 'Undisclosed Investors'\n",
    "data['InvestorsName'][data['InvestorsName'] == 'Undisclosed Investor'] = 'Undisclosed Investors'\n",
    "data['InvestorsName'][data['InvestorsName'] == 'Undisclosed'] = 'Undisclosed Investors'\n",
    "data['InvestorsName'][data['InvestorsName'] == 'nan'] = 'Undisclosed Investors'\n",
    "\n",
    "# lets check the value counts\n",
    "investors = data['InvestorsName'].value_counts().head(10)\n",
    "print(investors)\n",
    "\n",
    "# lets plot the data\n",
    "sns.barplot(investors.index, investors.values, palette = 'cool')\n",
    "plt.xticks(rotation='vertical')\n",
    "plt.xlabel('Investors Names', fontsize=12)\n",
    "plt.ylabel('Number of fundings made', fontsize=12)\n",
    "plt.title(\"Investors Names with number of funding\", fontsize=16)\n",
    "plt.show()"
   ]
  },
  {
   "cell_type": "markdown",
   "metadata": {},
   "source": [
    "## What are the different Types of Funding for Startups?"
   ]
  },
  {
   "cell_type": "code",
   "execution_count": null,
   "metadata": {},
   "outputs": [],
   "source": [
    "# lets analyze the investment\n",
    "investment = data['InvestmentType'].value_counts().head(10)\n",
    "print(investment)\n",
    "\n",
    "# lets clean the dataset\n",
    "data['InvestmentType'][data['InvestmentType'] == 'SeedFunding'] = 'Seed Funding'\n",
    "data['InvestmentType'][data['InvestmentType'] == 'Crowd funding'] = 'Crowd Funding'\n",
    "data['InvestmentType'][data['InvestmentType'] == 'PrivateEquity'] = 'Private Equity'\n",
    "\n",
    "# lets plot the data\n",
    "sns.barplot(investment.index, investment.values, palette = 'summer')\n",
    "plt.xticks(rotation='vertical')\n",
    "plt.xlabel('Investment Type', fontsize=12)\n",
    "plt.ylabel('Number of fundings made', fontsize=12)\n",
    "plt.title(\"Investment Type with number of funding\", fontsize=16)\n",
    "plt.show()"
   ]
  }
 ],
 "metadata": {
  "kernelspec": {
   "display_name": "Python 3.10.8 64-bit",
   "language": "python",
   "name": "python3"
  },
  "language_info": {
   "codemirror_mode": {
    "name": "ipython",
    "version": 3
   },
   "file_extension": ".py",
   "mimetype": "text/x-python",
   "name": "python",
   "nbconvert_exporter": "python",
   "pygments_lexer": "ipython3",
   "version": "3.10.8"
  },
  "vscode": {
   "interpreter": {
    "hash": "a42ccb73e7d9bfdf27e036f1d2b8b681e55fc0743cc5586bc2474d4a60f4b886"
   }
  }
 },
 "nbformat": 4,
 "nbformat_minor": 4
}
